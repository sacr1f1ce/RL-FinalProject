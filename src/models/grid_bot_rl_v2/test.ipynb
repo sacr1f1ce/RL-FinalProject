{
 "cells": [
  {
   "cell_type": "code",
   "execution_count": 2,
   "metadata": {},
   "outputs": [],
   "source": [
    "from train import *\n",
    "import pandas as pd\n",
    "from policy import *\n",
    "import random"
   ]
  },
  {
   "cell_type": "code",
   "execution_count": 3,
   "metadata": {},
   "outputs": [
    {
     "name": "stderr",
     "output_type": "stream",
     "text": [
      "100%|██████████| 1/1 [00:00<00:00,  2.44it/s]\n"
     ]
    },
    {
     "name": "stdout",
     "output_type": "stream",
     "text": [
      "tensor([[ 2.8467e+04,  2.8485e+04, -1.8363e+01,  3.9135e+01,  1.0000e+05,\n",
      "         -8.7549e-05],\n",
      "        [ 2.8425e+04,  2.8452e+04, -2.7783e+01, -5.8707e+03,  1.0000e+05,\n",
      "         -5.6689e-06],\n",
      "        [ 2.8397e+04,  2.8418e+04, -2.1225e+01, -8.7506e+02,  1.0000e+05,\n",
      "          2.5544e-04],\n",
      "        ...,\n",
      "        [ 2.9571e+04,  2.9565e+04,  6.4698e+00,  6.0986e+02,  1.1245e+04,\n",
      "          1.5475e-05],\n",
      "        [ 2.9553e+04,  2.9555e+04, -1.4330e+00,  4.2970e+02,  1.1130e+04,\n",
      "         -7.4153e-05],\n",
      "        [ 2.9562e+04,  2.9561e+04,  1.0161e+00, -1.1851e+03,  1.1087e+04,\n",
      "         -9.2309e-06]], dtype=torch.float64)\n",
      "torch.Size([523, 6])\n"
     ]
    },
    {
     "ename": "ValueError",
     "evalue": "The right-most size of value must match event_shape: torch.Size([523, 2]) vs torch.Size([1]).",
     "output_type": "error",
     "traceback": [
      "\u001b[0;31m---------------------------------------------------------------------------\u001b[0m",
      "\u001b[0;31mValueError\u001b[0m                                Traceback (most recent call last)",
      "\u001b[1;32m/Users/marknuzhnov/Desktop/Study/Skoltech/Term 5/RL-FinalProject/src/models/grid_bot_rl_v2/test.ipynb Cell 2\u001b[0m line \u001b[0;36m4\n\u001b[1;32m     <a href='vscode-notebook-cell:/Users/marknuzhnov/Desktop/Study/Skoltech/Term%205/RL-FinalProject/src/models/grid_bot_rl_v2/test.ipynb#W1sZmlsZQ%3D%3D?line=33'>34</a>\u001b[0m scenario \u001b[39m=\u001b[39m MonteCarloSimulationScenario(\n\u001b[1;32m     <a href='vscode-notebook-cell:/Users/marknuzhnov/Desktop/Study/Skoltech/Term%205/RL-FinalProject/src/models/grid_bot_rl_v2/test.ipynb#W1sZmlsZQ%3D%3D?line=34'>35</a>\u001b[0m     bot,\n\u001b[1;32m     <a href='vscode-notebook-cell:/Users/marknuzhnov/Desktop/Study/Skoltech/Term%205/RL-FinalProject/src/models/grid_bot_rl_v2/test.ipynb#W1sZmlsZQ%3D%3D?line=35'>36</a>\u001b[0m     policy\u001b[39m=\u001b[39mpolicy,\n\u001b[0;32m   (...)\u001b[0m\n\u001b[1;32m     <a href='vscode-notebook-cell:/Users/marknuzhnov/Desktop/Study/Skoltech/Term%205/RL-FinalProject/src/models/grid_bot_rl_v2/test.ipynb#W1sZmlsZQ%3D%3D?line=42'>43</a>\u001b[0m     discount_factor\u001b[39m=\u001b[39m\u001b[39m1.0\u001b[39m, \u001b[39m# do not change this\u001b[39;00m\n\u001b[1;32m     <a href='vscode-notebook-cell:/Users/marknuzhnov/Desktop/Study/Skoltech/Term%205/RL-FinalProject/src/models/grid_bot_rl_v2/test.ipynb#W1sZmlsZQ%3D%3D?line=43'>44</a>\u001b[0m )\n\u001b[1;32m     <a href='vscode-notebook-cell:/Users/marknuzhnov/Desktop/Study/Skoltech/Term%205/RL-FinalProject/src/models/grid_bot_rl_v2/test.ipynb#W1sZmlsZQ%3D%3D?line=45'>46</a>\u001b[0m \u001b[39mtry\u001b[39;00m:\n\u001b[0;32m---> <a href='vscode-notebook-cell:/Users/marknuzhnov/Desktop/Study/Skoltech/Term%205/RL-FinalProject/src/models/grid_bot_rl_v2/test.ipynb#W1sZmlsZQ%3D%3D?line=46'>47</a>\u001b[0m     scenario\u001b[39m.\u001b[39;49mrun()\n\u001b[1;32m     <a href='vscode-notebook-cell:/Users/marknuzhnov/Desktop/Study/Skoltech/Term%205/RL-FinalProject/src/models/grid_bot_rl_v2/test.ipynb#W1sZmlsZQ%3D%3D?line=47'>48</a>\u001b[0m \u001b[39mexcept\u001b[39;00m \u001b[39mKeyboardInterrupt\u001b[39;00m:\n\u001b[1;32m     <a href='vscode-notebook-cell:/Users/marknuzhnov/Desktop/Study/Skoltech/Term%205/RL-FinalProject/src/models/grid_bot_rl_v2/test.ipynb#W1sZmlsZQ%3D%3D?line=48'>49</a>\u001b[0m     clear_output(wait\u001b[39m=\u001b[39m\u001b[39mTrue\u001b[39;00m)\n",
      "File \u001b[0;32m~/Desktop/Study/Skoltech/Term 5/RL-FinalProject/src/models/grid_bot_rl_v2/train.py:118\u001b[0m, in \u001b[0;36mMonteCarloSimulationScenario.run\u001b[0;34m(self)\u001b[0m\n\u001b[1;32m    110\u001b[0m \u001b[39mself\u001b[39m\u001b[39m.\u001b[39mlast_observations \u001b[39m=\u001b[39m pd\u001b[39m.\u001b[39mDataFrame(\n\u001b[1;32m    111\u001b[0m     index\u001b[39m=\u001b[39m\u001b[39mself\u001b[39m\u001b[39m.\u001b[39mpolicy\u001b[39m.\u001b[39mbuffer\u001b[39m.\u001b[39mepisode_ids,\n\u001b[1;32m    112\u001b[0m     data\u001b[39m=\u001b[39m\u001b[39mself\u001b[39m\u001b[39m.\u001b[39mpolicy\u001b[39m.\u001b[39mbuffer\u001b[39m.\u001b[39mobservations\u001b[39m.\u001b[39mcopy(),\n\u001b[1;32m    113\u001b[0m )\n\u001b[1;32m    114\u001b[0m \u001b[39mself\u001b[39m\u001b[39m.\u001b[39mlast_actions \u001b[39m=\u001b[39m pd\u001b[39m.\u001b[39mDataFrame(\n\u001b[1;32m    115\u001b[0m     index\u001b[39m=\u001b[39m\u001b[39mself\u001b[39m\u001b[39m.\u001b[39mpolicy\u001b[39m.\u001b[39mbuffer\u001b[39m.\u001b[39mepisode_ids,\n\u001b[1;32m    116\u001b[0m     data\u001b[39m=\u001b[39m\u001b[39mself\u001b[39m\u001b[39m.\u001b[39mpolicy\u001b[39m.\u001b[39mbuffer\u001b[39m.\u001b[39mactions\u001b[39m.\u001b[39mcopy(),\n\u001b[1;32m    117\u001b[0m )\n\u001b[0;32m--> 118\u001b[0m \u001b[39mself\u001b[39;49m\u001b[39m.\u001b[39;49mpolicy\u001b[39m.\u001b[39;49mREINFORCE_step()\n\u001b[1;32m    120\u001b[0m means_total_objectives\u001b[39m.\u001b[39mappend(np\u001b[39m.\u001b[39mmean(\u001b[39mself\u001b[39m\u001b[39m.\u001b[39mtotal_objectives_episodic))\n\u001b[1;32m    121\u001b[0m change \u001b[39m=\u001b[39m (means_total_objectives[\u001b[39m-\u001b[39m\u001b[39m1\u001b[39m] \u001b[39m/\u001b[39m means_total_objectives[\u001b[39m-\u001b[39m\u001b[39m2\u001b[39m] \u001b[39m-\u001b[39m \u001b[39m1\u001b[39m) \u001b[39m*\u001b[39m \u001b[39m100\u001b[39m\n",
      "File \u001b[0;32m~/Desktop/Study/Skoltech/Term 5/RL-FinalProject/src/models/grid_bot_rl_v2/policy.py:191\u001b[0m, in \u001b[0;36mPolicyREINFORCE.REINFORCE_step\u001b[0;34m(self)\u001b[0m\n\u001b[1;32m    189\u001b[0m \u001b[39mself\u001b[39m\u001b[39m.\u001b[39mN_episodes \u001b[39m=\u001b[39m \u001b[39mself\u001b[39m\u001b[39m.\u001b[39mbuffer\u001b[39m.\u001b[39mget_N_episodes()\n\u001b[1;32m    190\u001b[0m \u001b[39mself\u001b[39m\u001b[39m.\u001b[39mmodel\u001b[39m.\u001b[39mto(\u001b[39mself\u001b[39m\u001b[39m.\u001b[39mdevice)\n\u001b[0;32m--> 191\u001b[0m \u001b[39mself\u001b[39;49m\u001b[39m.\u001b[39;49moptimizer\u001b[39m.\u001b[39;49moptimize(\u001b[39mself\u001b[39;49m\u001b[39m.\u001b[39;49mobjective, \u001b[39mself\u001b[39;49m\u001b[39m.\u001b[39;49mbuffer)\n\u001b[1;32m    192\u001b[0m \u001b[39mself\u001b[39m\u001b[39m.\u001b[39mmodel\u001b[39m.\u001b[39mto(\u001b[39m\"\u001b[39m\u001b[39mcpu\u001b[39m\u001b[39m\"\u001b[39m)\n\u001b[1;32m    193\u001b[0m \u001b[39mself\u001b[39m\u001b[39m.\u001b[39mbuffer\u001b[39m.\u001b[39mnullify_buffer()\n",
      "File \u001b[0;32m~/Desktop/Study/Skoltech/Term 5/RL-FinalProject/src/models/grid_bot_rl_v2/optimizer.py:52\u001b[0m, in \u001b[0;36mOptimizer.optimize\u001b[0;34m(self, objective, dataset)\u001b[0m\n\u001b[1;32m     50\u001b[0m batch_sample \u001b[39m=\u001b[39m \u001b[39mnext\u001b[39m(\u001b[39miter\u001b[39m(dataloader))\n\u001b[1;32m     51\u001b[0m \u001b[39mself\u001b[39m\u001b[39m.\u001b[39moptimizer\u001b[39m.\u001b[39mzero_grad()\n\u001b[0;32m---> 52\u001b[0m objective_value \u001b[39m=\u001b[39m objective(batch_sample)\n\u001b[1;32m     53\u001b[0m objective_value\u001b[39m.\u001b[39mbackward()\n\u001b[1;32m     54\u001b[0m \u001b[39mself\u001b[39m\u001b[39m.\u001b[39moptimizer\u001b[39m.\u001b[39mstep()\n",
      "File \u001b[0;32m~/Desktop/Study/Skoltech/Term 5/RL-FinalProject/src/models/grid_bot_rl_v2/policy.py:183\u001b[0m, in \u001b[0;36mPolicyREINFORCE.objective\u001b[0;34m(self, batch)\u001b[0m\n\u001b[1;32m    180\u001b[0m tail_total_objectives \u001b[39m=\u001b[39m batch[\u001b[39m\"\u001b[39m\u001b[39mtail_total_objectives\u001b[39m\u001b[39m\"\u001b[39m]\u001b[39m.\u001b[39mto(\u001b[39mself\u001b[39m\u001b[39m.\u001b[39mdevice)\n\u001b[1;32m    181\u001b[0m baselines \u001b[39m=\u001b[39m batch[\u001b[39m\"\u001b[39m\u001b[39mbaselines\u001b[39m\u001b[39m\"\u001b[39m]\u001b[39m.\u001b[39mto(\u001b[39mself\u001b[39m\u001b[39m.\u001b[39mdevice)\n\u001b[0;32m--> 183\u001b[0m log_probs \u001b[39m=\u001b[39m \u001b[39mself\u001b[39;49m\u001b[39m.\u001b[39;49mmodel\u001b[39m.\u001b[39;49mlog_probs(observations_actions)\n\u001b[1;32m    184\u001b[0m \u001b[39mreturn\u001b[39;00m ((tail_total_objectives \u001b[39m-\u001b[39m baselines) \u001b[39m*\u001b[39m log_probs)\u001b[39m.\u001b[39msum() \u001b[39m/\u001b[39m \u001b[39mself\u001b[39m\u001b[39m.\u001b[39mN_episodes\n",
      "File \u001b[0;32m~/Desktop/Study/Skoltech/Term 5/RL-FinalProject/src/models/grid_bot_rl_v2/policy.py:131\u001b[0m, in \u001b[0;36mGaussianPDFModel.log_probs\u001b[0;34m(self, batch_of_observations_actions)\u001b[0m\n\u001b[1;32m    129\u001b[0m means \u001b[39m=\u001b[39m \u001b[39mself\u001b[39m\u001b[39m.\u001b[39mget_means(observations)\n\u001b[1;32m    130\u001b[0m distr \u001b[39m=\u001b[39m MultivariateNormal(means, scale_tril\u001b[39m=\u001b[39mscale_tril_matrix)\n\u001b[0;32m--> 131\u001b[0m \u001b[39mreturn\u001b[39;00m distr\u001b[39m.\u001b[39;49mlog_prob(actions)\n",
      "File \u001b[0;32m/Library/Frameworks/Python.framework/Versions/3.9/lib/python3.9/site-packages/torch/distributions/multivariate_normal.py:214\u001b[0m, in \u001b[0;36mMultivariateNormal.log_prob\u001b[0;34m(self, value)\u001b[0m\n\u001b[1;32m    212\u001b[0m \u001b[39mdef\u001b[39;00m \u001b[39mlog_prob\u001b[39m(\u001b[39mself\u001b[39m, value):\n\u001b[1;32m    213\u001b[0m     \u001b[39mif\u001b[39;00m \u001b[39mself\u001b[39m\u001b[39m.\u001b[39m_validate_args:\n\u001b[0;32m--> 214\u001b[0m         \u001b[39mself\u001b[39;49m\u001b[39m.\u001b[39;49m_validate_sample(value)\n\u001b[1;32m    215\u001b[0m     diff \u001b[39m=\u001b[39m value \u001b[39m-\u001b[39m \u001b[39mself\u001b[39m\u001b[39m.\u001b[39mloc\n\u001b[1;32m    216\u001b[0m     M \u001b[39m=\u001b[39m _batch_mahalanobis(\u001b[39mself\u001b[39m\u001b[39m.\u001b[39m_unbroadcasted_scale_tril, diff)\n",
      "File \u001b[0;32m/Library/Frameworks/Python.framework/Versions/3.9/lib/python3.9/site-packages/torch/distributions/distribution.py:281\u001b[0m, in \u001b[0;36mDistribution._validate_sample\u001b[0;34m(self, value)\u001b[0m\n\u001b[1;32m    279\u001b[0m event_dim_start \u001b[39m=\u001b[39m \u001b[39mlen\u001b[39m(value\u001b[39m.\u001b[39msize()) \u001b[39m-\u001b[39m \u001b[39mlen\u001b[39m(\u001b[39mself\u001b[39m\u001b[39m.\u001b[39m_event_shape)\n\u001b[1;32m    280\u001b[0m \u001b[39mif\u001b[39;00m value\u001b[39m.\u001b[39msize()[event_dim_start:] \u001b[39m!=\u001b[39m \u001b[39mself\u001b[39m\u001b[39m.\u001b[39m_event_shape:\n\u001b[0;32m--> 281\u001b[0m     \u001b[39mraise\u001b[39;00m \u001b[39mValueError\u001b[39;00m(\u001b[39m'\u001b[39m\u001b[39mThe right-most size of value must match event_shape: \u001b[39m\u001b[39m{}\u001b[39;00m\u001b[39m vs \u001b[39m\u001b[39m{}\u001b[39;00m\u001b[39m.\u001b[39m\u001b[39m'\u001b[39m\u001b[39m.\u001b[39m\n\u001b[1;32m    282\u001b[0m                      \u001b[39mformat\u001b[39m(value\u001b[39m.\u001b[39msize(), \u001b[39mself\u001b[39m\u001b[39m.\u001b[39m_event_shape))\n\u001b[1;32m    284\u001b[0m actual_shape \u001b[39m=\u001b[39m value\u001b[39m.\u001b[39msize()\n\u001b[1;32m    285\u001b[0m expected_shape \u001b[39m=\u001b[39m \u001b[39mself\u001b[39m\u001b[39m.\u001b[39m_batch_shape \u001b[39m+\u001b[39m \u001b[39mself\u001b[39m\u001b[39m.\u001b[39m_event_shape\n",
      "\u001b[0;31mValueError\u001b[0m: The right-most size of value must match event_shape: torch.Size([523, 2]) vs torch.Size([1])."
     ]
    }
   ],
   "source": [
    "SEED = 14\n",
    "np.random.seed(SEED)\n",
    "torch.manual_seed(SEED)\n",
    "random.seed(SEED)\n",
    "\n",
    "bot = AdaptiveGridBot(pd.read_csv('/Users/marknuzhnov/Desktop/Study/Skoltech/Term 5/RL-FinalProject/data/processed/btcusdt.csv'))\n",
    "model = GaussianPDFModel(\n",
    "    dim_observation=4,\n",
    "    dim_action=1,\n",
    "    #---------------------------------------------------------------------------\n",
    "    # YOUR CODE GOES HERE\n",
    "    scale_factor=100,  # TRY TO FIND scale_factor EMPIRICALLY\n",
    "    dim_hidden=10, # TRY TO FIND dim_hidden EMPIRICALLY\n",
    "    std=0.0001, # TRY TO FIND STD EMPIRICALLY\n",
    "    #---------------------------------------------------------------------------\n",
    ")\n",
    "\n",
    "optimizer = Optimizer(\n",
    "    model=model,\n",
    "    opt_method=torch.optim.Adam,\n",
    "    #---------------------------------------------------------------------------\n",
    "    # YOUR CODE GOES HERE\n",
    "    opt_options=dict(lr=0.01), # TRY TO FIND lr EMPIRICALLY\n",
    "    #---------------------------------------------------------------------------\n",
    ")\n",
    "\n",
    "\n",
    "policy = PolicyREINFORCE(model, optimizer, is_with_baseline=True)\n",
    "\n",
    "trivial_terminantion_criterion = lambda *args: False\n",
    "\n",
    "\n",
    "\n",
    "scenario = MonteCarloSimulationScenario(\n",
    "    bot,\n",
    "    policy=policy,\n",
    "    #---------------------------------------------------------------------------\n",
    "    # YOUR CODE GOES HERE\n",
    "    N_episodes=1, # Increasing the number of episodes stabilizes learning, but you can manage it with N_episodes=1\n",
    "    N_iterations=800, # You can change the number of iterations if you want\n",
    "    #---------------------------------------------------------------------------\n",
    "    termination_criterion=trivial_terminantion_criterion,\n",
    "    discount_factor=1.0, # do not change this\n",
    ")\n",
    "\n",
    "try:\n",
    "    scenario.run()\n",
    "except KeyboardInterrupt:\n",
    "    clear_output(wait=True)\n",
    "    scenario.plot_data()\n",
    "\n",
    "clear_output(wait=True)\n",
    "scenario.plot_data()"
   ]
  },
  {
   "cell_type": "code",
   "execution_count": null,
   "metadata": {},
   "outputs": [],
   "source": []
  }
 ],
 "metadata": {
  "kernelspec": {
   "display_name": "Python 3",
   "language": "python",
   "name": "python3"
  },
  "language_info": {
   "codemirror_mode": {
    "name": "ipython",
    "version": 3
   },
   "file_extension": ".py",
   "mimetype": "text/x-python",
   "name": "python",
   "nbconvert_exporter": "python",
   "pygments_lexer": "ipython3",
   "version": "3.9.6"
  }
 },
 "nbformat": 4,
 "nbformat_minor": 2
}
