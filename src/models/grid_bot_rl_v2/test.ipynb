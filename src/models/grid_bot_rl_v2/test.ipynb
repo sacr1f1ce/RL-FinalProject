{
 "cells": [
  {
   "cell_type": "code",
   "execution_count": 1,
   "metadata": {},
   "outputs": [],
   "source": [
    "from train import *\n",
    "import pandas as pd\n",
    "from policy import *\n",
    "import random"
   ]
  },
  {
   "cell_type": "code",
   "execution_count": 4,
   "metadata": {},
   "outputs": [
    {
     "ename": "AttributeError",
     "evalue": "'MonteCarloSimulationScenario' object has no attribute 'plot_data'",
     "output_type": "error",
     "traceback": [
      "\u001b[0;31m---------------------------------------------------------------------------\u001b[0m",
      "\u001b[0;31mKeyboardInterrupt\u001b[0m                         Traceback (most recent call last)",
      "\u001b[1;32m/Users/v.viskov/Skoltech/RL/Project/RL-FinalProject/src/models/grid_bot_rl_v2/test.ipynb Ячейка 2\u001b[0m line \u001b[0;36m4\n\u001b[1;32m     <a href='vscode-notebook-cell:/Users/v.viskov/Skoltech/RL/Project/RL-FinalProject/src/models/grid_bot_rl_v2/test.ipynb#W1sZmlsZQ%3D%3D?line=45'>46</a>\u001b[0m \u001b[39mtry\u001b[39;00m:\n\u001b[0;32m---> <a href='vscode-notebook-cell:/Users/v.viskov/Skoltech/RL/Project/RL-FinalProject/src/models/grid_bot_rl_v2/test.ipynb#W1sZmlsZQ%3D%3D?line=46'>47</a>\u001b[0m     scenario\u001b[39m.\u001b[39;49mrun()\n\u001b[1;32m     <a href='vscode-notebook-cell:/Users/v.viskov/Skoltech/RL/Project/RL-FinalProject/src/models/grid_bot_rl_v2/test.ipynb#W1sZmlsZQ%3D%3D?line=47'>48</a>\u001b[0m \u001b[39mexcept\u001b[39;00m \u001b[39mKeyboardInterrupt\u001b[39;00m:\n",
      "File \u001b[0;32m~/Skoltech/RL/Project/RL-FinalProject/src/models/grid_bot_rl_v2/train.py:75\u001b[0m, in \u001b[0;36mMonteCarloSimulationScenario.run\u001b[0;34m(self)\u001b[0m\n\u001b[1;32m     74\u001b[0m terminated \u001b[39m=\u001b[39m \u001b[39mFalse\u001b[39;00m\n\u001b[0;32m---> 75\u001b[0m \u001b[39mwhile\u001b[39;00m \u001b[39mself\u001b[39;49m\u001b[39m.\u001b[39;49mbot\u001b[39m.\u001b[39;49mstep():\n\u001b[1;32m     76\u001b[0m     observation, action, step_idx \u001b[39m=\u001b[39m \u001b[39mself\u001b[39m\u001b[39m.\u001b[39mbot\u001b[39m.\u001b[39mget_sim_step_data()\n",
      "File \u001b[0;32m~/Skoltech/RL/Project/RL-FinalProject/src/models/grid_bot_rl_v2/bot.py:81\u001b[0m, in \u001b[0;36mAdaptiveGridBot.step\u001b[0;34m(self)\u001b[0m\n\u001b[1;32m     79\u001b[0m     \u001b[39mself\u001b[39m\u001b[39m.\u001b[39msell_points \u001b[39m+\u001b[39m\u001b[39m=\u001b[39m [(index, \u001b[39mself\u001b[39m\u001b[39m.\u001b[39msell_orders[i])]\n\u001b[0;32m---> 81\u001b[0m \u001b[39melif\u001b[39;00m \u001b[39mnot\u001b[39;00m \u001b[39mself\u001b[39m\u001b[39m.\u001b[39mbought[i] \u001b[39mand\u001b[39;00m row\u001b[39m.\u001b[39;49mLow \u001b[39m<\u001b[39;49m\u001b[39m=\u001b[39;49m \u001b[39mself\u001b[39;49m\u001b[39m.\u001b[39;49mbuy_orders[i] \u001b[39mand\u001b[39;00m \u001b[39mself\u001b[39m\u001b[39m.\u001b[39mbalance \u001b[39m>\u001b[39m\u001b[39m=\u001b[39m \u001b[39mself\u001b[39m\u001b[39m.\u001b[39mbuy_amount:  \u001b[39m# buying\u001b[39;00m\n\u001b[1;32m     82\u001b[0m     \u001b[39mself\u001b[39m\u001b[39m.\u001b[39mbought[i] \u001b[39m=\u001b[39m \u001b[39mTrue\u001b[39;00m\n",
      "\u001b[0;31mKeyboardInterrupt\u001b[0m: ",
      "\nDuring handling of the above exception, another exception occurred:\n",
      "\u001b[0;31mAttributeError\u001b[0m                            Traceback (most recent call last)",
      "\u001b[1;32m/Users/v.viskov/Skoltech/RL/Project/RL-FinalProject/src/models/grid_bot_rl_v2/test.ipynb Ячейка 2\u001b[0m line \u001b[0;36m5\n\u001b[1;32m     <a href='vscode-notebook-cell:/Users/v.viskov/Skoltech/RL/Project/RL-FinalProject/src/models/grid_bot_rl_v2/test.ipynb#W1sZmlsZQ%3D%3D?line=47'>48</a>\u001b[0m \u001b[39mexcept\u001b[39;00m \u001b[39mKeyboardInterrupt\u001b[39;00m:\n\u001b[1;32m     <a href='vscode-notebook-cell:/Users/v.viskov/Skoltech/RL/Project/RL-FinalProject/src/models/grid_bot_rl_v2/test.ipynb#W1sZmlsZQ%3D%3D?line=48'>49</a>\u001b[0m     clear_output(wait\u001b[39m=\u001b[39m\u001b[39mTrue\u001b[39;00m)\n\u001b[0;32m---> <a href='vscode-notebook-cell:/Users/v.viskov/Skoltech/RL/Project/RL-FinalProject/src/models/grid_bot_rl_v2/test.ipynb#W1sZmlsZQ%3D%3D?line=49'>50</a>\u001b[0m     scenario\u001b[39m.\u001b[39;49mplot_data()\n\u001b[1;32m     <a href='vscode-notebook-cell:/Users/v.viskov/Skoltech/RL/Project/RL-FinalProject/src/models/grid_bot_rl_v2/test.ipynb#W1sZmlsZQ%3D%3D?line=51'>52</a>\u001b[0m clear_output(wait\u001b[39m=\u001b[39m\u001b[39mTrue\u001b[39;00m)\n\u001b[1;32m     <a href='vscode-notebook-cell:/Users/v.viskov/Skoltech/RL/Project/RL-FinalProject/src/models/grid_bot_rl_v2/test.ipynb#W1sZmlsZQ%3D%3D?line=52'>53</a>\u001b[0m scenario\u001b[39m.\u001b[39mplot_data()\n",
      "\u001b[0;31mAttributeError\u001b[0m: 'MonteCarloSimulationScenario' object has no attribute 'plot_data'"
     ]
    }
   ],
   "source": [
    "SEED = 14\n",
    "np.random.seed(SEED)\n",
    "torch.manual_seed(SEED)\n",
    "random.seed(SEED)\n",
    "\n",
    "bot = AdaptiveGridBot(pd.read_csv('../../../data/processed/btcusdt.csv'))\n",
    "model = GaussianPDFModel(\n",
    "    dim_observation=4,\n",
    "    dim_action=1,\n",
    "    #---------------------------------------------------------------------------\n",
    "    # YOUR CODE GOES HERE\n",
    "    scale_factor=10,  # TRY TO FIND scale_factor EMPIRICALLY\n",
    "    dim_hidden=20, # TRY TO FIND dim_hidden EMPIRICALLY\n",
    "    std=0.05, # TRY TO FIND STD EMPIRICALLY\n",
    "    #---------------------------------------------------------------------------\n",
    ")\n",
    "\n",
    "optimizer = Optimizer(\n",
    "    model=model,\n",
    "    opt_method=torch.optim.Adam,\n",
    "    #---------------------------------------------------------------------------\n",
    "    # YOUR CODE GOES HERE\n",
    "    opt_options=dict(lr=0.05), # TRY TO FIND lr EMPIRICALLY\n",
    "    #---------------------------------------------------------------------------\n",
    ")\n",
    "\n",
    "\n",
    "policy = PolicyREINFORCE(model, optimizer, is_with_baseline=True)\n",
    "\n",
    "trivial_terminantion_criterion = lambda *args: False\n",
    "\n",
    "\n",
    "\n",
    "scenario = MonteCarloSimulationScenario(\n",
    "    bot,\n",
    "    policy=policy,\n",
    "    #---------------------------------------------------------------------------\n",
    "    # YOUR CODE GOES HERE\n",
    "    N_episodes=5, # Increasing the number of episodes stabilizes learning, but you can manage it with N_episodes=1\n",
    "    N_iterations=800, # You can change the number of iterations if you want\n",
    "    #---------------------------------------------------------------------------\n",
    "    termination_criterion=trivial_terminantion_criterion,\n",
    "    discount_factor=1.0, # do not change this\n",
    ")\n",
    "\n",
    "try:\n",
    "    scenario.run()\n",
    "except KeyboardInterrupt:\n",
    "    clear_output(wait=True)\n",
    "    scenario.plot_data()\n",
    "\n",
    "clear_output(wait=True)\n",
    "scenario.plot_data()"
   ]
  },
  {
   "cell_type": "code",
   "execution_count": null,
   "metadata": {},
   "outputs": [],
   "source": []
  }
 ],
 "metadata": {
  "kernelspec": {
   "display_name": "Python 3",
   "language": "python",
   "name": "python3"
  },
  "language_info": {
   "codemirror_mode": {
    "name": "ipython",
    "version": 3
   },
   "file_extension": ".py",
   "mimetype": "text/x-python",
   "name": "python",
   "nbconvert_exporter": "python",
   "pygments_lexer": "ipython3",
   "version": "3.9.16"
  }
 },
 "nbformat": 4,
 "nbformat_minor": 2
}
